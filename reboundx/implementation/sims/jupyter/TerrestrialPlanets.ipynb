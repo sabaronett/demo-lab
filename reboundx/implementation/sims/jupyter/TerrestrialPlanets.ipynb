{
 "cells": [
  {
   "cell_type": "markdown",
   "metadata": {},
   "source": [
    "# Terrestrial Planets\n",
    "## (Without Tides)"
   ]
  },
  {
   "cell_type": "markdown",
   "metadata": {},
   "source": [
    "### Parameter Interpolation\n",
    "\n",
    "If parameters are changing significantly on dynamical timescales (e.g. mass transfer at pericenter on very eccentric orbits) you need a specialized numerical scheme to do that accurately.\n",
    "However, there are many astrophysical settings where parameters change very slowly compared to all the dynamical timescales in the problem.\n",
    "As long as this is the case and the changes are adiabatic, you can modify these parameters between calls to `sim.integrate` very flexibly and without loss of accuracy. \n",
    "\n",
    "In order to provide a machine-independent way to interpolate parameters at arbitrary times, which can be shared between the C and Python versions of the code, we have implemented an interpolator object. \n",
    "For example, say you want to interpolate stellar evolution data.\n",
    "We show below how you can use the `Interpolator` structure to spline a discrete set of time-parameter values.\n",
    "\n",
    "We begin by reading in mass and radius data of our Sun, starting roughly 5 million years before the tip of its red-giant branch (RGB), and separating them into time and value arrays. \n",
    "You can populate these arrays however you want, but we load two text files (one for stellar mass, the other for stellar radius), where the first column gives the time (e.g., the Sun's age), and the second column gives the corresponding value (mass or radius).\n",
    "\n",
    "All values need to be in simulation units. If you're using AU, then your stellar radii should also be in AU."
   ]
  },
  {
   "cell_type": "code",
   "execution_count": 1,
   "metadata": {},
   "outputs": [],
   "source": [
    "import numpy as np\n",
    "\n",
    "data = np.loadtxt('mesa2txt/m.txt') # return (N, 2) array\n",
    "mtimes = data[:, 0]                 # return only 1st col\n",
    "masses = data[:, 1]                 # return only 2nd col\n",
    "\n",
    "data = np.loadtxt('mesa2txt/r.txt')\n",
    "rtimes = data[:, 0]\n",
    "Rsuns = data[:, 1]                  # data in Rsun units\n",
    "\n",
    "radii = np.zeros(Rsuns.size)        # convert Rsun to AU\n",
    "for i, r in enumerate(Rsuns):\n",
    "    radii[i] = r * 0.00465047       # 215 Rsun ~ 1 AU"
   ]
  },
  {
   "cell_type": "markdown",
   "metadata": {},
   "source": [
    "Next we set up the Sun and all four terrestrial planets."
   ]
  },
  {
   "cell_type": "code",
   "execution_count": 2,
   "metadata": {
    "scrolled": true
   },
   "outputs": [],
   "source": [
    "import rebound\n",
    "import reboundx\n",
    "\n",
    "M0 = 0.8868357536545315 # initial mass of star\n",
    "names = ['Sun', 'Mercury', 'Venus', 'Earth', 'Mars']\n",
    "symbols = ['☉', '☿', '♀︎', '⊕', '♂︎']\n",
    "\n",
    "def makesim():\n",
    "    sim = rebound.Simulation()\n",
    "    sim.units = ('yr', 'AU', 'Msun')\n",
    "    sim.add(m=M0, hash=names[0])\n",
    "    sim.add(m=0.166e-6, a=0.39, hash=names[1])\n",
    "    sim.add(m=2.45e-6, a=0.723, hash=names[2])\n",
    "    sim.add(m=3.e-6, a=1., hash=names[3])\n",
    "    sim.add(m=0.323e-6, a=1.524, hash=names[4])\n",
    "    sim.integrator = 'whfast'\n",
    "    sim.dt = 0.1*sim.particles[1].P\n",
    "    sim.move_to_com()\n",
    "    return sim"
   ]
  },
  {
   "cell_type": "markdown",
   "metadata": {},
   "source": [
    "Now we can create an `Interpolator` object for each parameter set and pass the corresponding arrays as arguments."
   ]
  },
  {
   "cell_type": "code",
   "execution_count": 3,
   "metadata": {},
   "outputs": [],
   "source": [
    "sim = makesim()\n",
    "rebx = reboundx.Extras(sim)\n",
    "starmass = reboundx.Interpolator(rebx, mtimes, masses, 'spline')\n",
    "starradius = reboundx.Interpolator(rebx, rtimes, radii, 'spline')\n",
    "\n",
    "# update Sun's mass and radius accordingly\n",
    "ps = sim.particles\n",
    "T0 = 12388.5e6 # Sun's age ~ 5 Myr pre-TRGB (sim start)\n",
    "ps[0].m = starmass.interpolate(rebx, t=T0)\n",
    "ps[0].r = starradius.interpolate(rebx, t=T0)\n",
    "sim.move_to_com()"
   ]
  },
  {
   "cell_type": "code",
   "execution_count": 4,
   "metadata": {},
   "outputs": [
    {
     "name": "stdout",
     "output_type": "stream",
     "text": [
      "M0 = 0.8868357536545315 Msun\n",
      "R0 = 0.3343621584715825 Rsun\n"
     ]
    }
   ],
   "source": [
    "print('M0 =', starmass.interpolate(rebx, t=T0), 'Msun')\n",
    "print('R0 =', starradius.interpolate(rebx, t=T0), 'Rsun')"
   ]
  },
  {
   "cell_type": "markdown",
   "metadata": {},
   "source": [
    "Finally, we integrate for 5 Myr, updating the central body's mass and radius interpolated at the time between outputs. We then plot the resulting system:"
   ]
  },
  {
   "cell_type": "code",
   "execution_count": 5,
   "metadata": {},
   "outputs": [
    {
     "name": "stderr",
     "output_type": "stream",
     "text": [
      "/home/stanley/miniconda3/envs/rebx/lib/python3.7/site-packages/rebound/simulation.py:675: RuntimeWarning: WHFast convergence issue. Timestep is larger than at least one orbital period.\n",
      "  warnings.warn(msg[1:], RuntimeWarning)\n"
     ]
    },
    {
     "name": "stdout",
     "output_type": "stream",
     "text": [
      "10min 8s ± 2min 40s per loop (mean ± std. dev. of 7 runs, 1 loop each)\n"
     ]
    }
   ],
   "source": [
    "%%timeit\n",
    "Nout = 1000\n",
    "mass = np.zeros(Nout)\n",
    "radius = np.zeros(Nout)\n",
    "a = np.zeros([Nout, sim.N])\n",
    "ts = np.linspace(0., 5.e6, Nout)\n",
    "cp = 1                             # index of closest survivng planet\n",
    "emass = 0.                         # mass of engulfed planets\n",
    "\n",
    "for i, time in enumerate(ts):\n",
    "    sim.integrate(time)\n",
    "    d = ps[0] - ps[cp]             # componentwise difference to nearest planet\n",
    "    r = np.sqrt(d.x**2 + d.y**2 + d.z**2)\n",
    "    \n",
    "    if r <= ps[0].r:               # nearest planet engulfed\n",
    "        emass += ps[cp].m          # add engulfed planet mass\n",
    "        ps[cp].m = 0               # zero planet mass and move to COM\n",
    "        ps[cp].x, ps[cp].y, ps[cp].z = 0, 0, 0\n",
    "        cp += 1                    # next closest surviving planet\n",
    "        sim.dt = 0.1*ps[cp].P      # adjust timestep accordingly\n",
    "        \n",
    "    # evolve Sun and recenter to COM\n",
    "    ps[0].m = starmass.interpolate(rebx, t=T0+sim.t) + emass\n",
    "    ps[0].r = starradius.interpolate(rebx, t=T0+sim.t)\n",
    "    sim.move_to_com()\n",
    "    \n",
    "    # record values for post-sim plots\n",
    "    mass[i] = sim.particles[0].m\n",
    "    radius[i] = sim.particles[0].r\n",
    "    for j in range(1, sim.N):\n",
    "        a[i, j] = ps[j].a"
   ]
  },
  {
   "cell_type": "code",
   "execution_count": 6,
   "metadata": {},
   "outputs": [
    {
     "name": "stderr",
     "output_type": "stream",
     "text": [
      "/home/stanley/miniconda3/envs/rebx/lib/python3.7/site-packages/rebound/simulation.py:675: RuntimeWarning: WHFast convergence issue. Timestep is larger than at least one orbital period.\n",
      "  warnings.warn(msg[1:], RuntimeWarning)\n"
     ]
    },
    {
     "name": "stdout",
     "output_type": "stream",
     "text": [
      "CPU times: user 3min 53s, sys: 1min 6s, total: 5min\n",
      "Wall time: 5min\n"
     ]
    }
   ],
   "source": [
    "%%time\n",
    "Nout = 1000\n",
    "mass = np.zeros(Nout)\n",
    "radius = np.zeros(Nout)\n",
    "a = np.zeros([Nout, sim.N])\n",
    "ts = np.linspace(0., 5.e6, Nout)\n",
    "cp = 1     # index of closest survivng planet\n",
    "emass = 0. # mass of engulfed planets\n",
    "\n",
    "for i, time in enumerate(ts):\n",
    "    sim.integrate(time)\n",
    "    d = ps[0] - ps[cp]             # componentwise difference to nearest planet\n",
    "    r = np.sqrt(d.x**2 + d.y**2 + d.z**2)\n",
    "    \n",
    "    if r <= ps[0].r:               # nearest planet engulfed\n",
    "        emass += ps[cp].m          # add engulfed planet mass\n",
    "        ps[cp].m = 0               # zero planet mass and move to COM\n",
    "        ps[cp].x, ps[cp].y, ps[cp].z = 0, 0, 0\n",
    "        cp += 1                    # next closest surviving planet\n",
    "        sim.dt = 0.1*ps[cp].P      # adjust timestep accordingly\n",
    "        \n",
    "    # evolve Sun and recenter to COM\n",
    "    ps[0].m = starmass.interpolate(rebx, t=T0+sim.t) + emass\n",
    "    ps[0].r = starradius.interpolate(rebx, t=T0+sim.t)\n",
    "    sim.move_to_com()\n",
    "    \n",
    "    # record values for post-sim plots\n",
    "    mass[i] = sim.particles[0].m\n",
    "    radius[i] = sim.particles[0].r\n",
    "    for j in range(1, sim.N):\n",
    "        a[i, j] = ps[j].a"
   ]
  },
  {
   "cell_type": "code",
   "execution_count": null,
   "metadata": {},
   "outputs": [],
   "source": [
    "%%time\n",
    "Nout = 1000\n",
    "mass = np.zeros(Nout)\n",
    "radius = np.zeros(Nout)\n",
    "a = np.zeros([Nout, sim.N])\n",
    "ts = np.linspace(0., 5.e6, Nout)\n",
    "cp = 1     # index of closest survivng planet\n",
    "emass = 0. # mass of engulfed planets\n",
    "\n",
    "for i, time in enumerate(ts):\n",
    "    sim.integrate(time)\n",
    "    d = ps[0] - ps[cp]             # componentwise difference to nearest planet\n",
    "    r = np.sqrt(d.x**2 + d.y**2 + d.z**2)\n",
    "    \n",
    "    if r <= ps[0].r:               # nearest planet engulfed\n",
    "        emass += ps[cp].m          # add engulfed planet mass\n",
    "        ps[cp].m = 0               # zero planet mass and move to COM\n",
    "        ps[cp].x, ps[cp].y, ps[cp].z = 0, 0, 0\n",
    "        cp += 1                    # next closest surviving planet\n",
    "        sim.dt = 0.1*ps[cp].P      # adjust timestep accordingly\n",
    "        \n",
    "    # evolve Sun and recenter to COM\n",
    "    ps[0].m = starmass.interpolate(rebx, t=T0+sim.t) + emass\n",
    "    ps[0].r = starradius.interpolate(rebx, t=T0+sim.t)\n",
    "    sim.move_to_com()\n",
    "    \n",
    "    # record values for post-sim plots\n",
    "    mass[i] = sim.particles[0].m\n",
    "    radius[i] = sim.particles[0].r\n",
    "    for j in range(1, sim.N):\n",
    "        a[i, j] = ps[j].a"
   ]
  },
  {
   "cell_type": "code",
   "execution_count": null,
   "metadata": {},
   "outputs": [],
   "source": [
    "import matplotlib.pyplot as plt\n",
    "import matplotlib.ticker as mticker\n",
    "\n",
    "f = mticker.ScalarFormatter(useOffset=False, useMathText=True)\n",
    "g = lambda x,pos : \"${}$\".format(f._formatSciNotation('%1.10e' % x))\n",
    "\n",
    "fig, (ax1, ax2) = plt.subplots(nrows=2, ncols=1, sharex=True, figsize=(8, 12), dpi=300)\n",
    "fig.subplots_adjust(hspace=0)\n",
    "\n",
    "ax1.set_ylabel(\"$M(t)$ / $M_{\\odot}$\", fontsize='large')\n",
    "ax1.yaxis.set_minor_locator(mticker.AutoMinorLocator())\n",
    "ax1.plot(ts,mass, color='tab:orange')\n",
    "ax1.grid()\n",
    "\n",
    "ax2.set_xlabel('Time / yr', fontsize='large')\n",
    "ax2.ticklabel_format(axis='x', style='sci', scilimits=(0,0))\n",
    "ax2.xaxis.set_minor_locator(mticker.AutoMinorLocator())\n",
    "ax2.set_ylabel('Distance / AU', fontsize='large')\n",
    "ax2.yaxis.set_minor_locator(mticker.AutoMinorLocator())\n",
    "ax2.plot(ts,radius, color='tab:orange', label='$R_{\\odot}(t)$')\n",
    "for i in range(1, sim.N):\n",
    "    label = '$a_{%s}(t)$'%(symbols[i])\n",
    "    ax2.plot(ts,a[:, i], '--', label=label)\n",
    "ax2.legend(fontsize='large', loc='best')\n",
    "ax2.grid()\n",
    "\n",
    "plt.gca().xaxis.set_major_formatter(mticker.FuncFormatter(g))\n",
    "plt.savefig('plots/terrestrial.png')"
   ]
  }
 ],
 "metadata": {
  "kernelspec": {
   "display_name": "rebx",
   "language": "python",
   "name": "rebx"
  },
  "language_info": {
   "codemirror_mode": {
    "name": "ipython",
    "version": 3
   },
   "file_extension": ".py",
   "mimetype": "text/x-python",
   "name": "python",
   "nbconvert_exporter": "python",
   "pygments_lexer": "ipython3",
   "version": "3.7.6"
  },
  "toc-autonumbering": false,
  "toc-showcode": false,
  "toc-showmarkdowntxt": false,
  "toc-showtags": false,
  "widgets": {
   "application/vnd.jupyter.widget-state+json": {
    "state": {},
    "version_major": 2,
    "version_minor": 0
   }
  }
 },
 "nbformat": 4,
 "nbformat_minor": 4
}
