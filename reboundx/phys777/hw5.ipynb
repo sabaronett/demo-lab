{
 "cells": [
  {
   "cell_type": "markdown",
   "metadata": {},
   "source": [
    "# Q7.2"
   ]
  },
  {
   "cell_type": "code",
   "execution_count": 1,
   "metadata": {},
   "outputs": [
    {
     "name": "stdout",
     "output_type": "stream",
     "text": [
      "Saturn's pericentre precession rate: 2.6e-03 °/y\n",
      "Saturn's pericentre precession period: 140000 y\n"
     ]
    }
   ],
   "source": [
    "import numpy as np\n",
    "\n",
    "AU = 1.5e13                # cm\n",
    "djup = 5.2*AU              # cm\n",
    "a1 = djup                  # cm\n",
    "a2 = 9.5*AU                # cm, Table A.2 (p. 529)\n",
    "alpha = a1/a2              # dimensionless\n",
    "Mjup = 1.9e30              # g\n",
    "m1 = Mjup                  # g\n",
    "m2 = 570e27                # g, Table A.4 (p. 531)\n",
    "Msun = 2e33                # g\n",
    "mu1 = m1/(Msun + m2)       # dimensionless\n",
    "G = 6.7e-8                 # erg*cm/g^2\n",
    "n2 = np.sqrt(G*Msun/a2**3) # rad/s\n",
    "yr = 3.15e7 # s\n",
    "\n",
    "g_minus = 3*mu1*n2*alpha**2/4 # rad/s\n",
    "\n",
    "print('Saturn\\'s pericentre precession rate: {:.1e} °/y'.format(g_minus*180*yr/np.pi))\n",
    "print('Saturn\\'s pericentre precession period: {:.0f} y'.format(round(2*np.pi/g_minus/yr, -4)))"
   ]
  },
  {
   "cell_type": "code",
   "execution_count": 2,
   "metadata": {},
   "outputs": [
    {
     "name": "stdout",
     "output_type": "stream",
     "text": [
      "Venus' pericentre precession rate: 5.0e-04 °/y\n"
     ]
    }
   ],
   "source": [
    "a1 = 0.723*AU              # cm, Table A.2 (p. 529)\n",
    "a2 = AU                    # cm\n",
    "alpha = a1/a2              # dimensionless\n",
    "m1 = 4.9e27                # g, Table A.4 (p. 531)\n",
    "Mearth = 6e27              # g\n",
    "m2 = Mearth                # g\n",
    "mu2 = m2/(Msun + m1)       # dimensionless\n",
    "n1 = np.sqrt(G*Msun/a1**3) # rad/s\n",
    "\n",
    "g_plus = 3*mu2*n1*alpha**3/4 # rad/s\n",
    "\n",
    "print('Venus\\' pericentre precession rate: {:.1e} °/y'.format(g_plus*180*yr/np.pi))"
   ]
  },
  {
   "cell_type": "code",
   "execution_count": 3,
   "metadata": {},
   "outputs": [
    {
     "name": "stdout",
     "output_type": "stream",
     "text": [
      "Solar-induced lunar pericentre precession rate: 5.53e-02 °/d\n",
      "Solar-induced lunar pericentre precession period: 17.8 y\n"
     ]
    }
   ],
   "source": [
    "a_p = AU                     # cm\n",
    "n_p = np.sqrt(G*Msun/a_p**3) # rad/s\n",
    "d = 24*3600                  # s\n",
    "T = 27.3*d                   # s\n",
    "n = 2*np.pi/T                # rad/s\n",
    "\n",
    "curlypi_dot = 3*n_p**2/4/n\n",
    "\n",
    "print('Solar-induced lunar pericentre precession rate: {:.2e} °/d'.format(curlypi_dot*180*d/np.pi))\n",
    "print('Solar-induced lunar pericentre precession period: {:.1f} y'.format(2*np.pi/curlypi_dot/yr))"
   ]
  },
  {
   "cell_type": "code",
   "execution_count": 4,
   "metadata": {},
   "outputs": [
    {
     "name": "stdout",
     "output_type": "stream",
     "text": [
      "𝐽₂-induced lunar pericentre precession rate: 5.88e-06 °/d\n"
     ]
    }
   ],
   "source": [
    "J2 = 1.08e-3 # Earth\n",
    "Rp = 6378    # km\n",
    "a = 3.844e5  # km\n",
    "\n",
    "curlypi_dot = n*(3*J2*(Rp/a)**2/2 - 9*J2**2*(Rp/a)**4/8)\n",
    "\n",
    "print('𝐽₂-induced lunar pericentre precession rate: {:.2e} °/d'.format(curlypi_dot*180*d/np.pi))"
   ]
  }
 ],
 "metadata": {
  "kernelspec": {
   "display_name": "Python 3",
   "language": "python",
   "name": "python3"
  },
  "language_info": {
   "codemirror_mode": {
    "name": "ipython",
    "version": 3
   },
   "file_extension": ".py",
   "mimetype": "text/x-python",
   "name": "python",
   "nbconvert_exporter": "python",
   "pygments_lexer": "ipython3",
   "version": "3.8.3"
  },
  "widgets": {
   "application/vnd.jupyter.widget-state+json": {
    "state": {},
    "version_major": 2,
    "version_minor": 0
   }
  }
 },
 "nbformat": 4,
 "nbformat_minor": 4
}
