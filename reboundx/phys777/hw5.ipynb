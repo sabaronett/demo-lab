{
 "cells": [
  {
   "cell_type": "markdown",
   "metadata": {},
   "source": [
    "# Q7.2"
   ]
  },
  {
   "cell_type": "code",
   "execution_count": 3,
   "metadata": {},
   "outputs": [
    {
     "name": "stdout",
     "output_type": "stream",
     "text": [
      "Saturn's pericentre precession rate: 2.6e-03 °/y\n",
      "Saturn's pericentre precession period: 140000 y\n"
     ]
    }
   ],
   "source": [
    "import numpy as np\n",
    "\n",
    "AU = 1.5e13                # cm\n",
    "djup = 5.2*AU              # cm\n",
    "a1 = djup                  # cm\n",
    "a2 = 9.5*AU                # cm, Table A.2 (p. 529)\n",
    "alpha = a1/a2              # dimensionless\n",
    "Mjup = 1.9e30              # g\n",
    "m1 = Mjup                  # g\n",
    "m2 = 570e27                # g, Table A.4 (p. 531)\n",
    "Msun = 2e33                # g\n",
    "mu1 = m1/(Msun + m2)       # dimensionless\n",
    "G = 6.7e-8                 # erg*cm/g^2\n",
    "n2 = np.sqrt(G*Msun/a2**3) # rad/s\n",
    "yr = 3.15e7 # s\n",
    "\n",
    "g_minus = 3*mu1*n2*alpha**2/4 # rad/s\n",
    "\n",
    "print('Saturn\\'s pericentre precession rate: {:.1e} °/y'.format(g_minus*180*yr/np.pi))\n",
    "print('Saturn\\'s pericentre precession period: {:.0f} y'.format(round(2*np.pi/g_minus/yr, -4)))"
   ]
  },
  {
   "cell_type": "code",
   "execution_count": 6,
   "metadata": {},
   "outputs": [
    {
     "name": "stdout",
     "output_type": "stream",
     "text": [
      "Venus' pericentre precession rate: 5.0e-04 °/y\n"
     ]
    }
   ],
   "source": [
    "a1 = 0.723*AU              # cm, Table A.2 (p. 529)\n",
    "a2 = AU                    # cm\n",
    "alpha = a1/a2              # dimensionless\n",
    "m1 = 4.9e27                # g, Table A.4 (p. 531)\n",
    "Mearth = 6e27              # g\n",
    "m2 = Mearth                # g\n",
    "mu2 = m2/(Msun + m1)       # dimensionless\n",
    "n1 = np.sqrt(G*Msun/a1**3) # rad/s\n",
    "\n",
    "g_plus = 3*mu2*n1*alpha**3/4 # rad/s\n",
    "\n",
    "print('Venus\\' pericentre precession rate: {:.1e} °/y'.format(g_plus*180*yr/np.pi))"
   ]
  },
  {
   "cell_type": "code",
   "execution_count": null,
   "metadata": {},
   "outputs": [],
   "source": [
    "\n",
    "\n",
    "curlypi_dot = 3*n_p**2/4/n\n",
    "\n",
    "print('Saturn\\'s pericentre precession rate: {:.1e} °/y'.format(g_minus*180*yr/np.pi))\n",
    "print('Saturn\\'s pericentre precession period: {:.0f} y'.format(round(2*np.pi/g_minus/yr, -4)))"
   ]
  },
  {
   "cell_type": "markdown",
   "metadata": {},
   "source": [
    "### Constants and Units"
   ]
  },
  {
   "cell_type": "code",
   "execution_count": 3,
   "metadata": {},
   "outputs": [],
   "source": [
    "G = 6.7e-8 # erg*cm/g^2\n",
    "c = 3e10 # cm/s\n",
    "h = 6.6e-27 # erg*s\n",
    "hbar = 1.05e-27 # erg*s\n",
    "k = 1.4e-16 # erg/K\n",
    "k = 8.6e-5 # eV/K\n",
    "sigma = 5.7e-5 # erg/cm^2/s/K^4\n",
    "a = 7.6e-15 # erg/cm^3/K^4\n",
    "m_p = 1.7e-24 # g\n",
    "m_e = 9.1e-28 # g\n",
    "e = 4.8e-10 # esu\n",
    "eV = 1.6e-12 # erg\n",
    "sigma_T = 6.7e-25 # cm^2\n",
    "l_max = 2900#/T # Å 10^4 K\n",
    "hnu_max = 2.4#*T # eV/10^4 K\n",
    "angstrom = 10e-8 # cm\n",
    "Msun = 2e33 # g\n",
    "Lsun = 3.8e33 # erg/s\n",
    "rsun = 7e10 # cm\n",
    "AU = 1.5e13 # cm\n",
    "Mjup = 1.9e30 # g\n",
    "rjup = 7e9 # cm\n",
    "djup = 5.2*AU # = 7.8e13 # cm\n",
    "Mearth = 6e27 # g\n",
    "rearth = 6.4e8 # cm\n",
    "Mmoon = 7.4e25 # g\n",
    "rmoon = 1.7e8 # cm\n",
    "dmoon = 3.8e10 # cm\n",
    "pc = 3.1e18 # cm\n",
    "yr = 3.15e7 # s"
   ]
  },
  {
   "cell_type": "code",
   "execution_count": 4,
   "metadata": {},
   "outputs": [
    {
     "name": "stdout",
     "output_type": "stream",
     "text": [
      "3.2e-07 °/s\n"
     ]
    }
   ],
   "source": [
    "n = 2*np.pi/0.615/yr\n",
    "print('{:.1e} °/s'.format(n))"
   ]
  },
  {
   "cell_type": "code",
   "execution_count": 5,
   "metadata": {},
   "outputs": [
    {
     "name": "stdout",
     "output_type": "stream",
     "text": [
      "3.2e-07 rad/s\n"
     ]
    }
   ],
   "source": [
    "a1 = 0.723*AU              # cm\n",
    "n1 = np.sqrt(G*Msun/a1**3) # rad/s\n",
    "print('{:.1e} rad/s'.format(n1))"
   ]
  }
 ],
 "metadata": {
  "kernelspec": {
   "display_name": "Python 3",
   "language": "python",
   "name": "python3"
  },
  "language_info": {
   "codemirror_mode": {
    "name": "ipython",
    "version": 3
   },
   "file_extension": ".py",
   "mimetype": "text/x-python",
   "name": "python",
   "nbconvert_exporter": "python",
   "pygments_lexer": "ipython3",
   "version": "3.8.3"
  },
  "widgets": {
   "application/vnd.jupyter.widget-state+json": {
    "state": {},
    "version_major": 2,
    "version_minor": 0
   }
  }
 },
 "nbformat": 4,
 "nbformat_minor": 4
}
