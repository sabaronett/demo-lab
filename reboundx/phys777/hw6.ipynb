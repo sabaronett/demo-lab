{
 "cells": [
  {
   "cell_type": "markdown",
   "metadata": {},
   "source": [
    "# Q8.2"
   ]
  },
  {
   "cell_type": "code",
   "execution_count": 1,
   "metadata": {},
   "outputs": [],
   "source": [
    "import numpy as np\n",
    "from scipy import integrate\n",
    "\n",
    "def LaplaceCoef(s, j, alpha):\n",
    "    ''' Eq. (6.67) '''\n",
    "    integrand = lambda x: np.cos(j*x)/(1 - 2*alpha*np.cos(x) + alpha**2)**s\n",
    "    return (1/np.pi)*integrate.quad(integrand, 0, 2*np.pi)[0]"
   ]
  },
  {
   "cell_type": "code",
   "execution_count": 2,
   "metadata": {},
   "outputs": [],
   "source": [
    "def Dbsj(s, j, alpha):\n",
    "    ''' Eq. (6.70) '''\n",
    "    LC1 = LaplaceCoef(s+1, j-1, alpha) # first Laplace coefficient 𝑏ₛ⁽ʲ⁾\n",
    "    LC2 = LaplaceCoef(s+1, j, alpha)   # second...\n",
    "    LC3 = LaplaceCoef(s+1, j+1, alpha) # third...\n",
    "    return s*(LC1 - 2*alpha*LC2 + LC3)"
   ]
  },
  {
   "cell_type": "code",
   "execution_count": 3,
   "metadata": {},
   "outputs": [],
   "source": [
    "def Inner_f_d(s, j, alpha):\n",
    "    '''\n",
    "    1st line in Table 8.1 (p. 330).\n",
    "    For internal first-order resonance.\n",
    "    '''\n",
    "    term1 = LaplaceCoef(s, j, alpha)\n",
    "    term2 = Dbsj(s, j, alpha)\n",
    "    return -j*term1 - (alpha/2)*term2"
   ]
  },
  {
   "cell_type": "code",
   "execution_count": 4,
   "metadata": {},
   "outputs": [
    {
     "name": "stdout",
     "output_type": "stream",
     "text": [
      "𝛼𝑓_d(𝛼) = -0.749966\n"
     ]
    }
   ],
   "source": [
    "# Test to verify first line of Table 8.5 (p. 334)\n",
    "# 2:1 internal resonance w/ nominal 𝛼\n",
    "\n",
    "alpha = 0.629961\n",
    "af_d = alpha*Inner_f_d(.5, 2, alpha)\n",
    "print('𝛼𝑓_d(𝛼) = {:.6f}'.format(af_d))"
   ]
  },
  {
   "cell_type": "code",
   "execution_count": 5,
   "metadata": {},
   "outputs": [],
   "source": [
    "def Outer_f_d(s, j, alpha):\n",
    "    '''\n",
    "    2nd line in Table 8.1 (p. 330).\n",
    "    For external first-order resonance.\n",
    "    '''\n",
    "    term1 = LaplaceCoef(s, j-1, alpha)\n",
    "    term2 = Dbsj(s, j-1, alpha)\n",
    "    term3 = -2*alpha # absorbing 𝑓ₑ from Table 8.2 (see p. 349)\n",
    "    return (3/2)*term1 + (alpha/2)*term2 + term3"
   ]
  },
  {
   "cell_type": "code",
   "execution_count": 6,
   "metadata": {},
   "outputs": [],
   "source": [
    "def S(s, j, alpha):\n",
    "    return (-3*2**(2/3)/Inner_f_d(s, j, alpha))**(1/3)"
   ]
  },
  {
   "cell_type": "code",
   "execution_count": 7,
   "metadata": {},
   "outputs": [],
   "source": [
    "def Sprime(s, j, alpha):\n",
    "    return (-3*j**2/Outer_f_d(s, j, alpha))**(1/3)"
   ]
  },
  {
   "cell_type": "code",
   "execution_count": 8,
   "metadata": {},
   "outputs": [
    {
     "name": "stdout",
     "output_type": "stream",
     "text": [
      "𝛼₁₂ = 0.785\n",
      "𝛼𝑓_d(𝛼)₁₂ = -1.905\n",
      "𝐶₁₂ = 1428\n",
      "𝐶₂₁ = 0-635j\n",
      "\n",
      "𝛼₁₃ = 0.630\n",
      "𝛼𝑓_d(𝛼)₁₃ = -0.751\n",
      "𝐶₁₃ = 1493\n",
      "𝐶₃₁ = 0-378j\n",
      "\n",
      "𝛼₂₃ = 0.803\n",
      "𝛼𝑓_d(𝛼)₂₃ = -2.131\n",
      "𝐶₂₃ = 1000\n",
      "𝐶₃₂ = 0-677j\n"
     ]
    }
   ],
   "source": [
    "e = 0.001   # eccentricities of all three satellites\n",
    "# satellite semi-major axes in units of planet radius\n",
    "a1 = 7.31\n",
    "a2 = 9.31\n",
    "a3 = 11.6\n",
    "a12 = a1/a2 # alpha 1-2\n",
    "a13 = a1/a3 # alpha 1-3\n",
    "a23 = a2/a3 # alpha 2-3\n",
    "\n",
    "in_f_d12 = Inner_f_d(.5, 2, a12)\n",
    "in_f_d13 = Inner_f_d(.5, 2, a13)\n",
    "in_f_d23 = Inner_f_d(.5, 2, a23)\n",
    "in_C12 = 2*S(.5, 2, a12)**(-3/2)/e\n",
    "in_C13 = 2*S(.5, 2, a13)**(-3/2)/e\n",
    "in_C23 = 2*S(.5, 2, a23)**(-3/2)/e\n",
    "\n",
    "out_f_d12 = Outer_f_d(.5, 1, a12)\n",
    "out_f_d13 = Outer_f_d(.5, 1, a13)\n",
    "out_f_d23 = Outer_f_d(.5, 1, a23)\n",
    "out_C12 = 2*Sprime(.5, 2, a12)**(-3/2)/e\n",
    "out_C13 = 2*Sprime(.5, 2, a13)**(-3/2)/e\n",
    "out_C23 = 2*Sprime(.5, 2, a23)**(-3/2)/e\n",
    "\n",
    "print('𝛼₁₂ = {:.3f}'.format(a12))\n",
    "print('𝛼𝑓_d(𝛼)₁₂ = {:.3f}'.format(a12*in_f_d12))\n",
    "print('𝐶₁₂ = {:.0f}'.format(in_C12)) # 𝑏ₛ⁽ʲ⁾(𝛼)\n",
    "print('𝐶₂₁ = {:.0f}'.format(out_C12))\n",
    "\n",
    "print('\\n𝛼₁₃ = {:.3f}'.format(a13))\n",
    "print('𝛼𝑓_d(𝛼)₁₃ = {:.3f}'.format(a13*in_f_d13))\n",
    "print('𝐶₁₃ = {:.0f}'.format(in_C23))\n",
    "print('𝐶₃₁ = {:.0f}'.format(out_C13))\n",
    "\n",
    "print('\\n𝛼₂₃ = {:.3f}'.format(a23))\n",
    "print('𝛼𝑓_d(𝛼)₂₃ = {:.3f}'.format(a23*in_f_d23))\n",
    "print('𝐶₂₃ = {:.0f}'.format(in_C13))\n",
    "print('𝐶₃₂ = {:.0f}'.format(out_C23))"
   ]
  }
 ],
 "metadata": {
  "kernelspec": {
   "display_name": "REBOUNDx (3.1.0)",
   "language": "python",
   "name": "rebx-3.1.0"
  },
  "language_info": {
   "codemirror_mode": {
    "name": "ipython",
    "version": 3
   },
   "file_extension": ".py",
   "mimetype": "text/x-python",
   "name": "python",
   "nbconvert_exporter": "python",
   "pygments_lexer": "ipython3",
   "version": "3.8.3"
  },
  "widgets": {
   "application/vnd.jupyter.widget-state+json": {
    "state": {},
    "version_major": 2,
    "version_minor": 0
   }
  }
 },
 "nbformat": 4,
 "nbformat_minor": 4
}
