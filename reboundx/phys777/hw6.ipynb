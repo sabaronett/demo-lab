{
 "cells": [
  {
   "cell_type": "markdown",
   "metadata": {},
   "source": [
    "# Q8.2"
   ]
  },
  {
   "cell_type": "code",
   "execution_count": 1,
   "metadata": {},
   "outputs": [],
   "source": [
    "import numpy as np\n",
    "from scipy import integrate\n",
    "\n",
    "def LaplaceCoef(s, j, alpha):\n",
    "    ''' Eq. (6.67) '''\n",
    "    integrand = lambda x: np.cos(j*x)/(1 - 2*alpha*np.cos(x) + alpha**2)**s\n",
    "    return (1/np.pi)*integrate.quad(integrand, 0, 2*np.pi)[0]"
   ]
  },
  {
   "cell_type": "code",
   "execution_count": 2,
   "metadata": {},
   "outputs": [],
   "source": [
    "def Dbsj(s, j, alpha):\n",
    "    ''' Eq. (6.70) '''\n",
    "    LC1 = LaplaceCoef(s+1, j-1, alpha) # first Laplace coefficient 𝑏ₛ⁽ʲ⁾\n",
    "    LC2 = LaplaceCoef(s+1, j, alpha)   # second...\n",
    "    LC3 = LaplaceCoef(s+1, j+1, alpha) # third...\n",
    "    return s*(LC1 - 2*alpha*LC2 + LC3)"
   ]
  },
  {
   "cell_type": "code",
   "execution_count": 3,
   "metadata": {},
   "outputs": [],
   "source": [
    "def Inner_f_d(s, j, alpha):\n",
    "    '''\n",
    "    1st line in Table 8.1 (p. 330).\n",
    "    For internal first-order resonance.\n",
    "    '''\n",
    "    term1 = LaplaceCoef(s, j, alpha)\n",
    "    term2 = Dbsj(s, j, alpha)\n",
    "    return -j*term1 - (alpha/2)*term2"
   ]
  },
  {
   "cell_type": "code",
   "execution_count": 4,
   "metadata": {},
   "outputs": [
    {
     "name": "stdout",
     "output_type": "stream",
     "text": [
      "𝛼𝑓_d(𝛼) = -0.749966\n"
     ]
    }
   ],
   "source": [
    "# Test to verify first line of Table 8.5 (p. 334)\n",
    "# 2:1 internal resonance w/ nominal 𝛼\n",
    "\n",
    "alpha = 0.629961\n",
    "af_d = alpha*Inner_f_d(.5, 2, alpha)\n",
    "print('𝛼𝑓_d(𝛼) = {:.6f}'.format(af_d))"
   ]
  },
  {
   "cell_type": "code",
   "execution_count": 5,
   "metadata": {},
   "outputs": [],
   "source": [
    "def Outer_f_d(s, j, alpha):\n",
    "    '''\n",
    "    2nd line in Table 8.1 (p. 330).\n",
    "    For external first-order resonance.\n",
    "    '''\n",
    "    term1 = LaplaceCoef(s, j-1, alpha)\n",
    "    term2 = Dbsj(s, j-1, alpha)\n",
    "    term3 = 0\n",
    "    if j == 2: # for special case j = 2\n",
    "        term3 = -2*alpha # absorbing 𝑓ₑ from Table 8.2 (see p. 349)\n",
    "    return (3/2)*term1 + (alpha/2)*term2 + term3"
   ]
  },
  {
   "cell_type": "code",
   "execution_count": 6,
   "metadata": {},
   "outputs": [],
   "source": [
    "def S(s, j, alpha):\n",
    "    return (-3*2**(2/3)/Inner_f_d(s, j, alpha))**(1/3)"
   ]
  },
  {
   "cell_type": "code",
   "execution_count": 7,
   "metadata": {},
   "outputs": [],
   "source": [
    "def Sprime(s, j, alpha):\n",
    "    return (-3*j**2/Outer_f_d(s, j, alpha))**(1/3)"
   ]
  },
  {
   "cell_type": "code",
   "execution_count": 8,
   "metadata": {},
   "outputs": [
    {
     "name": "stdout",
     "output_type": "stream",
     "text": [
      "𝛼₁₂ = 0.785\n",
      "𝛼𝑓_d(𝛼)₁₂ = -1.905\n",
      "𝐶₁₂ = 1428\n",
      "𝐶₂₁ = 0-635j\n",
      "\n",
      "𝛼₁₃ = 0.630\n",
      "𝛼𝑓_d(𝛼)₁₃ = -0.751\n",
      "𝐶₁₃ = 1493\n",
      "𝐶₃₁ = 0-378j\n",
      "\n",
      "𝛼₂₃ = 0.803\n",
      "𝛼𝑓_d(𝛼)₂₃ = -2.131\n",
      "𝐶₂₃ = 1000\n",
      "𝐶₃₂ = 0-677j\n"
     ]
    }
   ],
   "source": [
    "e = 0.001   # eccentricities of all three satellites\n",
    "# satellite semi-major axes in units of planet radius\n",
    "a1 = 7.31\n",
    "a2 = 9.31\n",
    "a3 = 11.6\n",
    "a12 = a1/a2 # alpha 1-2\n",
    "a13 = a1/a3 # alpha 1-3\n",
    "a23 = a2/a3 # alpha 2-3\n",
    "\n",
    "in_f_d12 = Inner_f_d(.5, 2, a12)\n",
    "in_f_d13 = Inner_f_d(.5, 2, a13)\n",
    "in_f_d23 = Inner_f_d(.5, 2, a23)\n",
    "in_C12 = 2*S(.5, 2, a12)**(-3/2)/e\n",
    "in_C13 = 2*S(.5, 2, a13)**(-3/2)/e\n",
    "in_C23 = 2*S(.5, 2, a23)**(-3/2)/e\n",
    "\n",
    "out_f_d12 = Outer_f_d(.5, 1, a12)\n",
    "out_f_d13 = Outer_f_d(.5, 1, a13)\n",
    "out_f_d23 = Outer_f_d(.5, 1, a23)\n",
    "out_C12 = 2*Sprime(.5, 2, a12)**(-3/2)/e\n",
    "out_C13 = 2*Sprime(.5, 2, a13)**(-3/2)/e\n",
    "out_C23 = 2*Sprime(.5, 2, a23)**(-3/2)/e\n",
    "\n",
    "print('𝛼₁₂ = {:.3f}'.format(a12))\n",
    "print('𝛼𝑓_d(𝛼)₁₂ = {:.3f}'.format(a12*in_f_d12))\n",
    "print('𝐶₁₂ = {:.0f}'.format(in_C12)) # 𝑏ₛ⁽ʲ⁾(𝛼)\n",
    "print('𝐶₂₁ = {:.0f}'.format(out_C12))\n",
    "\n",
    "print('\\n𝛼₁₃ = {:.3f}'.format(a13))\n",
    "print('𝛼𝑓_d(𝛼)₁₃ = {:.3f}'.format(a13*in_f_d13))\n",
    "print('𝐶₁₃ = {:.0f}'.format(in_C23))\n",
    "print('𝐶₃₁ = {:.0f}'.format(out_C13))\n",
    "\n",
    "print('\\n𝛼₂₃ = {:.3f}'.format(a23))\n",
    "print('𝛼𝑓_d(𝛼)₂₃ = {:.3f}'.format(a23*in_f_d23))\n",
    "print('𝐶₂₃ = {:.0f}'.format(in_C13))\n",
    "print('𝐶₃₂ = {:.0f}'.format(out_C23))"
   ]
  },
  {
   "cell_type": "markdown",
   "metadata": {},
   "source": [
    "# Q8.4"
   ]
  },
  {
   "cell_type": "markdown",
   "metadata": {},
   "source": [
    "## Jovian External Resonances"
   ]
  },
  {
   "cell_type": "markdown",
   "metadata": {},
   "source": [
    "### First-order\n",
    "Generating associated $\\alpha f_\\textrm{d}(\\alpha)$ terms, for the case of an external, $j : (j - 1)$ first-order resonance, needed in Eq. (8.32).  Here I use, as inputs for $\\alpha$, the reciprocals of the nominal values given in Table 8.5."
   ]
  },
  {
   "cell_type": "code",
   "execution_count": 9,
   "metadata": {},
   "outputs": [],
   "source": [
    "def FOEfd(s, j, alpha):\n",
    "    '''\n",
    "    2nd line in Table 8.1 (see pp. 330, 349).\n",
    "    For external first-order resonance for general j argument.\n",
    "    '''\n",
    "    prefac = 1/2\n",
    "    term1 = -LaplaceCoef(s, j-1, alpha)\n",
    "    term2 = 2*j*LaplaceCoef(s, j-1, alpha)\n",
    "    term3 = alpha*Dbsj(s, j-1, alpha)\n",
    "    term4 = 0\n",
    "    if j == 2: # for special case j = 2 (see p. 349)\n",
    "        term4 = -2*alpha*LaplaceCoef(s, j-1, alpha) # absorb 1st 𝑓ₑ from Table 8.2\n",
    "    return prefac*(term1 + term2 + term3 + term4)"
   ]
  },
  {
   "cell_type": "code",
   "execution_count": 10,
   "metadata": {},
   "outputs": [
    {
     "name": "stdout",
     "output_type": "stream",
     "text": [
      "𝑝 : 𝑝 + 𝑞\t 𝛼𝑓_d(𝛼)\n",
      "-------------------------\n",
      "1 : 2     \t-0.997620\n",
      "2 : 3     \t 0.294521\n",
      "3 : 4     \t 0.380772\n",
      "4 : 5     \t 0.466237\n"
     ]
    }
   ],
   "source": [
    "a12, a23, a34, a45 = 1/0.629961, 1/0.763143, 1/0.825482, 1/0.861774\n",
    "af_d12 = a12*FOEfd(1/2, 2, a12)\n",
    "af_d23 = a23*FOEfd(1/2, 3, a23)\n",
    "af_d34 = a34*FOEfd(1/2, 4, a34)\n",
    "af_d45 = a45*FOEfd(1/2, 5, a45)\n",
    "print('𝑝 : 𝑝 + 𝑞\\t 𝛼𝑓_d(𝛼)')\n",
    "print('-------------------------')\n",
    "print('1 : 2     \\t{:.6f}'.format(af_d12))\n",
    "print('2 : 3     \\t {:.6f}'.format(af_d23))\n",
    "print('3 : 4     \\t {:.6f}'.format(af_d34))\n",
    "print('4 : 5     \\t {:.6f}'.format(af_d45))"
   ]
  },
  {
   "cell_type": "markdown",
   "metadata": {},
   "source": [
    "### Second-order\n",
    "First we define a function to model the fifth entry in Table 8.1, corresponding to the $f_\\textrm{d}$ expression for the case of an external, $j : (j - 2)$ second-order resonance.  For the $j = 3$ case, an indirect term given by the second entry in Table 8.2 must be absorbed into $f_\\textrm{d}$."
   ]
  },
  {
   "cell_type": "code",
   "execution_count": 11,
   "metadata": {},
   "outputs": [],
   "source": [
    "def D2bsj(s, j, alpha):\n",
    "    ''' Eq. (6.71) for the case n = 2 '''\n",
    "    term1 = Dbsj(s+1, j-1, alpha)\n",
    "    term2 = -2*alpha*Dbsj(s+1, j, alpha)\n",
    "    term3 = Dbsj(s+1, j+1, alpha)\n",
    "    term4 = -2*LaplaceCoef(s+1, j, alpha)\n",
    "    return s*(term1 + term2 + term3 + term4)"
   ]
  },
  {
   "cell_type": "code",
   "execution_count": 12,
   "metadata": {},
   "outputs": [],
   "source": [
    "def SOEfd(s, j, alpha):\n",
    "    '''\n",
    "    5th line in Table 8.1 (p. 330).\n",
    "    For external second-order resonance for general j (p. 355)\n",
    "    '''\n",
    "    prefac = 1/8\n",
    "    term1 = 2*LaplaceCoef(s, j-2, alpha)\n",
    "    term2 = -7*j*LaplaceCoef(s, j-2, alpha)\n",
    "    term3 = 4*j**2*LaplaceCoef(s, j-2, alpha)\n",
    "    term4 = -2*alpha*Dbsj(s, j-2, alpha)\n",
    "    term5 = 4*j*alpha*Dbsj(s, j-2, alpha)\n",
    "    term6 = alpha**2*D2bsj(s, j-2, alpha)\n",
    "    term7 = 0\n",
    "    if j == 2: # for special case j = 2\n",
    "        term7 = -(27/8)*alpha # absorbing 2nd 𝑓ₑ from Table 8.2 (see p. 356)\n",
    "    return prefac*(term1 + term2 + term3 + term4 + term5 + term6) + term7"
   ]
  },
  {
   "cell_type": "code",
   "execution_count": 13,
   "metadata": {},
   "outputs": [
    {
     "name": "stdout",
     "output_type": "stream",
     "text": [
      "𝑝 : 𝑝 + 𝑞\t 𝛼𝑓_d(𝛼)\n",
      "------------------------\n",
      "3 : 5     \t0.430790\n",
      "5 : 7     \t0.801874\n",
      "7 : 9     \t1.28615\n",
      "9 : 11    \t1.88431\n"
     ]
    }
   ],
   "source": [
    "a35, a57, a79, a911 = 1/0.711379, 1/0.799064, 1/0.845740, 1/0.874782\n",
    "af_d35 = a35*SOEfd(1/2, 5, a35)\n",
    "af_d57 = a57*SOEfd(1/2, 7, a57)\n",
    "af_d79 = a79*SOEfd(1/2, 9, a79)\n",
    "af_d911 = a911*SOEfd(1/2, 11, a911)\n",
    "print('𝑝 : 𝑝 + 𝑞\\t 𝛼𝑓_d(𝛼)')\n",
    "print('------------------------')\n",
    "print('3 : 5     \\t{:.6f}'.format(af_d35))\n",
    "print('5 : 7     \\t{:.6f}'.format(af_d57))\n",
    "print('7 : 9     \\t{:.5f}'.format(af_d79))\n",
    "print('9 : 11    \\t{:.5f}'.format(af_d911))"
   ]
  },
  {
   "cell_type": "markdown",
   "metadata": {},
   "source": [
    "## Saturnian Internal Resonances"
   ]
  },
  {
   "cell_type": "markdown",
   "metadata": {},
   "source": [
    "### First-order\n",
    "Generating missing entries from Table 8.5 for the 7:6 and 8:7, first-order, internal resonance cases."
   ]
  },
  {
   "cell_type": "code",
   "execution_count": 14,
   "metadata": {},
   "outputs": [],
   "source": [
    "def FOIfd(s, j, alpha):\n",
    "    '''\n",
    "    1st line in Table 8.1 (p. 330).\n",
    "    For internal first-order resonance.\n",
    "    '''\n",
    "    prefac = 1/2\n",
    "    term1 = -2*j*LaplaceCoef(s, j, alpha)\n",
    "    term2 = -alpha*Dbsj(s, j, alpha)\n",
    "    return prefac*(term1 + term2)"
   ]
  },
  {
   "cell_type": "code",
   "execution_count": 15,
   "metadata": {},
   "outputs": [
    {
     "name": "stdout",
     "output_type": "stream",
     "text": [
      "𝑝 + 𝑞 : 𝑝 \t 𝛼𝑓_d(𝛼)\n",
      "------------------------\n",
      "    7 : 6 \t-4.74741\n",
      "    8 : 7 \t-5.54886\n"
     ]
    }
   ],
   "source": [
    "a76, a87 = 8.60565/9.53707032, 8.72476/9.53707032\n",
    "af_d76 = a76*FOIfd(.5, 7, a76)\n",
    "af_d87 = a87*FOIfd(.5, 8, a87)\n",
    "print('𝑝 + 𝑞 : 𝑝 \\t 𝛼𝑓_d(𝛼)')\n",
    "print('------------------------')\n",
    "print('    7 : 6 \\t{:.5f}'.format(af_d76))\n",
    "print('    8 : 7 \\t{:.5f}'.format(af_d87))"
   ]
  },
  {
   "cell_type": "markdown",
   "metadata": {},
   "source": [
    "### Second-order\n",
    "We define a function to model the third entry in Table 8.1, corresponding to the $f_\\textrm{d}$ expression for the case of an internal, $j : (j - 2)$ second-order resonance."
   ]
  },
  {
   "cell_type": "code",
   "execution_count": 16,
   "metadata": {},
   "outputs": [],
   "source": [
    "def SOIfd(s, j, alpha):\n",
    "    '''\n",
    "    3rd line in Table 8.1 (p. 330).\n",
    "    For internal second-order resonances for general j (p. 355).\n",
    "    '''\n",
    "    prefac = 1/8\n",
    "    term1 = -5*j*LaplaceCoef(s, j, alpha)\n",
    "    term2 = 4*j**2*LaplaceCoef(s, j, alpha)\n",
    "    term3 = -2*alpha*Dbsj(s, j, alpha)\n",
    "    term4 = 4*j*alpha*Dbsj(s, j, alpha)\n",
    "    term5 = alpha**2*D2bsj(s, j, alpha)\n",
    "    return prefac*(term1 + term2 + term3 + term4 + term5)"
   ]
  },
  {
   "cell_type": "code",
   "execution_count": 17,
   "metadata": {},
   "outputs": [
    {
     "name": "stdout",
     "output_type": "stream",
     "text": [
      "𝑝 + 𝑞 : 𝑝 \t  𝛼𝑓_d(𝛼)\n",
      "-------------------------\n",
      "    3 : 1 \t 0.287853\n",
      "    5 : 3 \t 2.32892\n",
      "   11 : 9 \t19.9639\n"
     ]
    }
   ],
   "source": [
    "# Tests to verify several lines of Table 8.5 (p. 334)\n",
    "# second-rder, internal resonances w/ nominal 𝛼s\n",
    "\n",
    "a31, a53, a119 = 0.480750, 0.711379, 0.874782\n",
    "af_d31 = a31*SOIfd(1/2, 3, a31)\n",
    "af_d53 = a53*SOIfd(1/2, 5, a53)\n",
    "af_d119 = a119*SOIfd(1/2, 11, a119)\n",
    "print('𝑝 + 𝑞 : 𝑝 \\t  𝛼𝑓_d(𝛼)')\n",
    "print('-------------------------')\n",
    "print('    3 : 1 \\t {:.6f}'.format(af_d31))\n",
    "print('    5 : 3 \\t {:.5f}'.format(af_d53))\n",
    "print('   11 : 9 \\t{:.4f}'.format(af_d119))"
   ]
  },
  {
   "cell_type": "code",
   "execution_count": 18,
   "metadata": {},
   "outputs": [
    {
     "name": "stdout",
     "output_type": "stream",
     "text": [
      "𝑝 + 𝑞 : 𝑝 \t 𝛼𝑓_d(𝛼)\n",
      "------------------------\n",
      "   13 : 11\t29.67873\n",
      "   15 : 13\t41.31212\n",
      "   17 : 15\t54.86324\n"
     ]
    }
   ],
   "source": [
    "a1311, a1513, a1715 = 8.53194/9.53707032, 8.66928/9.53707032, 8.77357/9.53707032\n",
    "af_d1311 = a1311*SOIfd(1/2, 13, a1311)\n",
    "af_d1513 = a1513*SOIfd(1/2, 15, a1513)\n",
    "af_d1715 = a1715*SOIfd(1/2, 17, a1715)\n",
    "print('𝑝 + 𝑞 : 𝑝 \\t 𝛼𝑓_d(𝛼)')\n",
    "print('------------------------')\n",
    "print('   13 : 11\\t{:.5f}'.format(af_d1311))\n",
    "print('   15 : 13\\t{:.5f}'.format(af_d1513))\n",
    "print('   17 : 15\\t{:.5f}'.format(af_d1715))"
   ]
  }
 ],
 "metadata": {
  "kernelspec": {
   "display_name": "REBOUNDx (3.1.0)",
   "language": "python",
   "name": "rebx-3.1.0"
  },
  "language_info": {
   "codemirror_mode": {
    "name": "ipython",
    "version": 3
   },
   "file_extension": ".py",
   "mimetype": "text/x-python",
   "name": "python",
   "nbconvert_exporter": "python",
   "pygments_lexer": "ipython3",
   "version": "3.8.3"
  },
  "widgets": {
   "application/vnd.jupyter.widget-state+json": {
    "state": {},
    "version_major": 2,
    "version_minor": 0
   }
  }
 },
 "nbformat": 4,
 "nbformat_minor": 4
}
